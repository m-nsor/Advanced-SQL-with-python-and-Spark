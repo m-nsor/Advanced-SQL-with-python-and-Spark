{
 "cells": [
  {
   "cell_type": "markdown",
   "id": "f743f410-d473-47b4-af12-cec327d4b961",
   "metadata": {},
   "source": [
    "SQL tutorials with Python and Apache Spark"
   ]
  },
  {
   "cell_type": "code",
   "execution_count": 4,
   "id": "9a3c492a-8d80-4ebd-809e-2e80ce4be5ca",
   "metadata": {},
   "outputs": [],
   "source": [
    "!pip install pyspark==3.1.2 -q\n",
    "!pip install findspark -q"
   ]
  },
  {
   "cell_type": "code",
   "execution_count": 6,
   "id": "a65106d2",
   "metadata": {},
   "outputs": [],
   "source": [
    "# FindSpark simplifies the process of using Apache Spark with Python\n",
    "import findspark\n",
    "findspark.init()"
   ]
  },
  {
   "cell_type": "code",
   "execution_count": 10,
   "id": "69fcb4d3",
   "metadata": {},
   "outputs": [],
   "source": [
    "#Create a SparkSession\n",
    "from pyspark.sql import SparkSession\n",
    "spark =SparkSession.builder.appName(\"SQL tutorials\").getOrCreate()"
   ]
  },
  {
   "cell_type": "markdown",
   "id": "c92a78ff-3629-4870-a252-7cc2e9f34aa7",
   "metadata": {},
   "source": [
    "Load the dataset"
   ]
  },
  {
   "cell_type": "code",
   "execution_count": 12,
   "id": "f5715bba",
   "metadata": {},
   "outputs": [],
   "source": [
    "df1 =spark.read.csv(\"matches.csv\", header=True, inferSchema=True)\n",
    "df1.createOrReplaceTempView(\"matches\")"
   ]
  },
  {
   "cell_type": "code",
   "execution_count": 13,
   "id": "9368ddf4",
   "metadata": {},
   "outputs": [],
   "source": [
    "df2 =spark.read.csv(\"seasonstats.csv\", header=True, inferSchema=True)\n",
    "df2.createOrReplaceTempView(\"stats\")"
   ]
  },
  {
   "cell_type": "code",
   "execution_count": 16,
   "id": "4efcf240-04d5-42de-bf10-781a63bce135",
   "metadata": {},
   "outputs": [],
   "source": [
    "df3 =spark.read.csv(\"teams.csv\", header=True, inferSchema=True)\n",
    "df3.createOrReplaceTempView(\"teams\")"
   ]
  },
  {
   "cell_type": "markdown",
   "id": "5bfb9582-bc9e-4b5d-b8c0-c62ca0f2d95a",
   "metadata": {},
   "source": [
    "SQL Basics"
   ]
  },
  {
   "cell_type": "code",
   "execution_count": 18,
   "id": "b29e06a0",
   "metadata": {},
   "outputs": [
    {
     "name": "stdout",
     "output_type": "stream",
     "text": [
      "+---------+---------------+---+----+----+---------+-------------+------+----+---------------+----------+------+-------+-------+\n",
      "|   season|          teams|win|draw|lost|goals_for|goals_against|points|shot|short_on_target|free_kicks|pk_for|y_cards|r_cards|\n",
      "+---------+---------------+---+----+----+---------+-------------+------+----+---------------+----------+------+-------+-------+\n",
      "|2020/2021|Manchester City| 27|   5|   6|       83|           32|    86| 453|            140|        23|     6|     49|      5|\n",
      "|2020/2021| Manchester Utd| 21|  11|   6|       73|           44|    74| 514|            178|        16|     5|     71|      4|\n",
      "|2020/2021|      Liverpool| 20|   9|   9|       68|           42|    69| 478|            134|        15|     6|     49|      6|\n",
      "|2020/2021|        Chelsea| 19|  10|   9|       58|           36|    67| 381|            124|        15|     3|     48|      0|\n",
      "|2020/2021| Leicester City| 20|   6|  12|       68|           50|    66| 546|            193|        16|     8|     51|      3|\n",
      "+---------+---------------+---+----+----+---------+-------------+------+----+---------------+----------+------+-------+-------+\n",
      "\n"
     ]
    }
   ],
   "source": [
    "#Viewing all columns of the data\n",
    "\n",
    "result = spark.sql(\"\"\"\n",
    "   SELECT *\n",
    "   FROM stats\n",
    "   WHERE season='2020/2021'\n",
    "   LIMIT 5\n",
    "\"\"\")\n",
    "result.show()"
   ]
  },
  {
   "cell_type": "code",
   "execution_count": 120,
   "id": "8a745d88",
   "metadata": {},
   "outputs": [
    {
     "name": "stdout",
     "output_type": "stream",
     "text": [
      "+---------+--------------+----------+----------+---------------+----------+---------------------+\n",
      "|season   |home_team     |home_goals|away_goals|away_team      |attendance|venue                |\n",
      "+---------+--------------+----------+----------+---------------+----------+---------------------+\n",
      "|2019/2020|Liverpool     |4         |1         |Norwich City   |53333     |Anfield              |\n",
      "|2019/2020|West Ham      |0         |5         |Manchester City|59870     |London Stadium       |\n",
      "|2019/2020|Burnley       |3         |0         |Southampton    |19784     |Turf Moor            |\n",
      "|2019/2020|Watford       |0         |3         |Brighton       |20245     |Vicarage Road Stadium|\n",
      "|2019/2020|Crystal Palace|0         |0         |Everton        |25151     |Selhurst Park        |\n",
      "+---------+--------------+----------+----------+---------------+----------+---------------------+\n",
      "\n"
     ]
    }
   ],
   "source": [
    "#Using basic SELECT, FROM, WHERE \n",
    "\n",
    "result = spark.sql(\"\"\"\n",
    "   SELECT season,home_team,home_goals,away_goals,away_team,attendance,venue\n",
    "   FROM matches\n",
    "   WHERE season='2019/2020'\n",
    "   LIMIT 5\n",
    "\"\"\")\n",
    "\n",
    "result.show(n=result.count(), truncate=False)"
   ]
  },
  {
   "cell_type": "code",
   "execution_count": 128,
   "id": "e9333506-8b45-49b8-85a1-14b173502289",
   "metadata": {},
   "outputs": [
    {
     "name": "stdout",
     "output_type": "stream",
     "text": [
      "+---------+---------------+------+--------+\n",
      "|   season|          teams|points|position|\n",
      "+---------+---------------+------+--------+\n",
      "|2021/2022|Manchester City|    93|       1|\n",
      "|2020/2021|Manchester City|    86|       1|\n",
      "|2019/2020|      Liverpool|    99|       1|\n",
      "|2022/2023|Manchester City|    89|       1|\n",
      "|2023/2024|Manchester City|    91|       1|\n",
      "+---------+---------------+------+--------+\n",
      "\n"
     ]
    }
   ],
   "source": [
    "#Extracting top-performing teams in each season effortlessly! \n",
    "\n",
    "result = spark.sql(\"\"\"\n",
    "    WITH top_teams AS (SELECT \n",
    "        season,teams,points,\n",
    "        ROW_NUMBER() OVER (PARTITION BY SEASON ORDER BY points DESC) as position\n",
    "    FROM stats\n",
    "    ) \n",
    "    SELECT season,teams,points,position\n",
    "    FROM top_teams\n",
    "    WHERE position=1\n",
    "\"\"\")\n",
    "result.show()"
   ]
  },
  {
   "cell_type": "code",
   "execution_count": 130,
   "id": "07a6ca99",
   "metadata": {},
   "outputs": [
    {
     "name": "stdout",
     "output_type": "stream",
     "text": [
      "+---------+---------------+------+--------+\n",
      "|   season|          teams|points|position|\n",
      "+---------+---------------+------+--------+\n",
      "|2019/2020|      Liverpool|    99|       1|\n",
      "|2019/2020|Manchester City|    81|       2|\n",
      "|2019/2020| Manchester Utd|    66|       3|\n",
      "|2019/2020|        Chelsea|    66|       4|\n",
      "|2019/2020| Leicester City|    62|       5|\n",
      "+---------+---------------+------+--------+\n",
      "\n"
     ]
    }
   ],
   "source": [
    "#Differenciating between ROW_NUMBER, RANK AND DENSE_RANK\n",
    "result = spark.sql(\"\"\"\n",
    "    WITH top_teams AS (\n",
    "    SELECT \n",
    "        season,teams,points,\n",
    "        ROW_NUMBER() OVER (PARTITION BY SEASON ORDER BY points DESC) as position\n",
    "    FROM stats\n",
    "    ) \n",
    "    SELECT season,teams,points,position\n",
    "    FROM top_teams\n",
    "    WHERE position<=5 and season='2019/2020'\n",
    "\"\"\")\n",
    "result.show()"
   ]
  },
  {
   "cell_type": "code",
   "execution_count": 132,
   "id": "569f12e2",
   "metadata": {},
   "outputs": [
    {
     "name": "stdout",
     "output_type": "stream",
     "text": [
      "+---------+---------------+------+--------+\n",
      "|   season|          teams|points|position|\n",
      "+---------+---------------+------+--------+\n",
      "|2019/2020|      Liverpool|    99|       1|\n",
      "|2019/2020|Manchester City|    81|       2|\n",
      "|2019/2020| Manchester Utd|    66|       3|\n",
      "|2019/2020|        Chelsea|    66|       3|\n",
      "|2019/2020| Leicester City|    62|       5|\n",
      "+---------+---------------+------+--------+\n",
      "\n"
     ]
    }
   ],
   "source": [
    "#Differenciating between ROW_NUMBER, RANK AND DENSE_RANK\n",
    "result = spark.sql(\"\"\"\n",
    "    WITH top_teams AS (\n",
    "    SELECT \n",
    "        season,teams,points,\n",
    "        RANK() OVER (PARTITION BY SEASON ORDER BY points DESC) as position\n",
    "    FROM stats\n",
    "    )  \n",
    "    SELECT season,teams,points,position\n",
    "    FROM top_teams\n",
    "    WHERE position<=5 and season='2019/2020'\n",
    "\"\"\")\n",
    "result.show()"
   ]
  },
  {
   "cell_type": "code",
   "execution_count": 114,
   "id": "b9a18c6d-4a78-4338-b6a0-b4736140cc7b",
   "metadata": {},
   "outputs": [
    {
     "name": "stdout",
     "output_type": "stream",
     "text": [
      "+---------+---------------+------+--------+\n",
      "|season   |teams          |points|position|\n",
      "+---------+---------------+------+--------+\n",
      "|2019/2020|Liverpool      |99    |1       |\n",
      "|2019/2020|Manchester City|81    |2       |\n",
      "|2019/2020|Manchester Utd |66    |3       |\n",
      "|2019/2020|Chelsea        |66    |3       |\n",
      "|2019/2020|Leicester City |62    |4       |\n",
      "|2019/2020|Tottenham      |59    |5       |\n",
      "|2019/2020|Wolves         |59    |5       |\n",
      "+---------+---------------+------+--------+\n",
      "\n"
     ]
    }
   ],
   "source": [
    "#Differenciating between ROW_NUMBER, RANK AND DENSE_RANK\n",
    "result = spark.sql(\"\"\"\n",
    "    WITH top_teams AS (\n",
    "    SELECT \n",
    "        season,teams,points,\n",
    "        DENSE_RANK() OVER (PARTITION BY SEASON ORDER BY points DESC) as position\n",
    "    FROM stats\n",
    "    )\n",
    "    SELECT season,teams,points,position\n",
    "    FROM top_teams\n",
    "    WHERE position<=5 and season='2019/2020'\n",
    "\"\"\")\n",
    "result.show()"
   ]
  },
  {
   "cell_type": "code",
   "execution_count": null,
   "id": "1d84b74b-50aa-4261-9be1-570397d590d8",
   "metadata": {},
   "outputs": [],
   "source": []
  }
 ],
 "metadata": {
  "kernelspec": {
   "display_name": "Python 3 (ipykernel)",
   "language": "python",
   "name": "python3"
  },
  "language_info": {
   "codemirror_mode": {
    "name": "ipython",
    "version": 3
   },
   "file_extension": ".py",
   "mimetype": "text/x-python",
   "name": "python",
   "nbconvert_exporter": "python",
   "pygments_lexer": "ipython3",
   "version": "3.11.7"
  }
 },
 "nbformat": 4,
 "nbformat_minor": 5
}
